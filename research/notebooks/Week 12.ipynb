{
 "cells": [
  {
   "cell_type": "code",
   "execution_count": null,
   "metadata": {
    "colab": {
     "base_uri": "https://localhost:8080/",
     "height": 54
    },
    "colab_type": "code",
    "id": "AMcLys4yWUJt",
    "outputId": "db005669-b626-40fd-88ea-101b265e2907"
   },
   "outputs": [
    {
     "name": "stdout",
     "output_type": "stream",
     "text": [
      "TensorFlow 2.x selected.\n"
     ]
    },
    {
     "data": {
      "text/plain": [
       "'2.1.0-rc1'"
      ]
     },
     "execution_count": 1,
     "metadata": {
      "tags": []
     },
     "output_type": "execute_result"
    }
   ],
   "source": [
    "%tensorflow_version 2.x\n",
    "import tensorflow as tf\n",
    "import numpy as np\n",
    "import matplotlib.pyplot as plt\n",
    "from tensorflow import keras\n",
    "\n",
    "tf.keras.backend.clear_session()\n",
    "tf.__version__"
   ]
  },
  {
   "cell_type": "code",
   "execution_count": null,
   "metadata": {
    "colab": {},
    "colab_type": "code",
    "id": "ENg8SDPJWUJy"
   },
   "outputs": [],
   "source": [
    "class DenseWithFixedBias(keras.layers.Layer):\n",
    "    def __init__(self, num_outputs, bias = 0):\n",
    "        super().__init__()\n",
    "        self.num_outputs = num_outputs\n",
    "        self.bias = bias\n",
    "\n",
    "    def build(self, input_shape):\n",
    "        self.kernel = self.add_weight(\"kernel\",\n",
    "                                      shape=[int(input_shape[-1]), self.num_outputs])\n",
    "\n",
    "    def call(self, input):\n",
    "        return tf.matmul(input, self.kernel) + self.bias\n",
    "\n",
    "class WeightsHistory(keras.callbacks.Callback):\n",
    "    def on_train_begin(self, logs={}):\n",
    "        self.weights = []\n",
    "\n",
    "    def on_batch_end(self, batch, logs={}):\n",
    "        self.weights.append(self.model.weights[0].numpy().tolist())"
   ]
  },
  {
   "cell_type": "code",
   "execution_count": null,
   "metadata": {
    "colab": {
     "base_uri": "https://localhost:8080/",
     "height": 54
    },
    "colab_type": "code",
    "id": "bqyTJIAiWUKA",
    "outputId": "de417817-9c36-4a5e-ebec-ecd60a4d0937"
   },
   "outputs": [
    {
     "data": {
      "text/plain": [
       "(array([[0.6, 0.4],\n",
       "        [1. , 0.4]]), array([0.2, 0.8]))"
      ]
     },
     "execution_count": 3,
     "metadata": {
      "tags": []
     },
     "output_type": "execute_result"
    }
   ],
   "source": [
    "y = np.array([\n",
    "    .2,\n",
    "    .8\n",
    "])\n",
    "x = np.array([\n",
    "    (.6, .4),\n",
    "    (1., .4)\n",
    "])\n",
    "x_test = x\n",
    "y_test = y\n",
    "x, y"
   ]
  },
  {
   "cell_type": "code",
   "execution_count": null,
   "metadata": {
    "colab": {},
    "colab_type": "code",
    "id": "V4iwGCTLk6T5"
   },
   "outputs": [],
   "source": [
    "bias = 0.45\n",
    "initial_weights = [.1, .0005]\n",
    "\n",
    "def construct_model():\n",
    "    model = keras.models.Sequential([\n",
    "        keras.layers.Input(shape=(2,)),\n",
    "        DenseWithFixedBias(1, bias)\n",
    "    ])\n",
    "    model.weights[0].assign(tf.constant(np.array(initial_weights).reshape((2, 1)).astype(np.float32)))\n",
    "\n",
    "    return model\n",
    "\n",
    "def fit(model, loss, epochs=10000):\n",
    "    weights_history = WeightsHistory()\n",
    "\n",
    "    model.compile(loss=loss, optimizer=\"sgd\", metrics=[\"accuracy\"])\n",
    "    history = model.fit(x, y, #tf.squeeze(subgoal),\n",
    "                        batch_size=len(y),\n",
    "                        epochs=epochs,\n",
    "                        callbacks=[weights_history],\n",
    "                        verbose=0)\n",
    "    return history, weights_history"
   ]
  },
  {
   "cell_type": "code",
   "execution_count": null,
   "metadata": {
    "colab": {},
    "colab_type": "code",
    "id": "AU4gq6eNknAp"
   },
   "outputs": [],
   "source": [
    "# MSE\n",
    "mse_model = construct_model()\n",
    "mse_history, mse_weights_history = fit(mse_model, \"mse\")"
   ]
  },
  {
   "cell_type": "code",
   "execution_count": null,
   "metadata": {
    "colab": {
     "base_uri": "https://localhost:8080/",
     "height": 126
    },
    "colab_type": "code",
    "id": "RddlV5Qwdari",
    "outputId": "fe58912d-db10-4821-81f8-2427264c207b"
   },
   "outputs": [
    {
     "name": "stdout",
     "output_type": "stream",
     "text": [
      "Tensor(\"dense_with_fixed_bias_3/Identity:0\", shape=(None, 1), dtype=float32) [[0.51019996]\n",
      " [0.5502    ]] Tensor(\"dense_with_fixed_bias_3_target:0\", shape=(None, None), dtype=float32)\n",
      "Tensor(\"sequential_3/dense_with_fixed_bias_3/add:0\", shape=(2, 1), dtype=float32) [[0.51019996]\n",
      " [0.5502    ]] Tensor(\"Cast_1:0\", shape=(2, 1), dtype=float32)\n",
      "Tensor(\"sequential_3/dense_with_fixed_bias_3/add:0\", shape=(2, 1), dtype=float32) [[0.51019996]\n",
      " [0.5502    ]] Tensor(\"Cast_1:0\", shape=(2, 1), dtype=float32)\n"
     ]
    }
   ],
   "source": [
    "# Custom algorithm\n",
    "\n",
    "def get_subgoal(y_initial, y_true, progress: float):\n",
    "    return y_initial + (y_true - y_initial) * progress\n",
    "\n",
    "def get_distance_to_line(point, a, b):\n",
    "    print(point, a, b)\n",
    "    pa = point - a\n",
    "    ba = b - a\n",
    "    t = tf.tensordot(pa, ba, axes=[[0, 1], [1, 0]]) / tf.tensordot(ba, ba, axes=[[0, 1], [1, 0]])\n",
    "    d = tf.norm(pa - t * ba)\n",
    "    return d\n",
    "\n",
    "def fractional_loss(y_initial):\n",
    "    def loss(y_true, y_pred):\n",
    "        # calculate goal line:\n",
    "        #y_true = get_subgoal(y_initial, y_true, .3)\n",
    "        return keras.losses.mean_squared_error(y_true, y_pred) + get_distance_to_line(y_pred, y_initial, y_true) ** 2\n",
    "    return loss\n",
    "\n",
    "model = construct_model()\n",
    "\n",
    "y_initial = model.predict(x)\n",
    "subgoal = get_subgoal(y_initial, tf.expand_dims(y, axis=-1), .3)\n",
    "loss = fractional_loss(y_initial)\n",
    "\n",
    "history, weights_history = fit(model, loss)"
   ]
  },
  {
   "cell_type": "code",
   "execution_count": null,
   "metadata": {
    "colab": {},
    "colab_type": "code",
    "id": "JsKaQBizlvhB"
   },
   "outputs": [],
   "source": [
    "models = [mse_model, model]\n",
    "histories = [mse_history, history]\n",
    "weights_histories = [mse_weights_history, weights_history]"
   ]
  },
  {
   "cell_type": "code",
   "execution_count": null,
   "metadata": {
    "colab": {
     "base_uri": "https://localhost:8080/",
     "height": 297
    },
    "colab_type": "code",
    "id": "zrJyZN_UWUKb",
    "outputId": "fc95f1f1-756f-40a6-e12b-138a30cd582e"
   },
   "outputs": [
    {
     "data": {
      "text/plain": [
       "Text(0, 0.5, 'Loss')"
      ]
     },
     "execution_count": 16,
     "metadata": {
      "tags": []
     },
     "output_type": "execute_result"
    },
    {
     "data": {
      "image/png": "[encoded data removed]",
      "text/plain": [
       "<Figure size 432x288 with 1 Axes>"
      ]
     },
     "metadata": {
      "tags": []
     },
     "output_type": "display_data"
    }
   ],
   "source": [
    "fig, ax = plt.subplots()\n",
    "for h in histories:\n",
    "    ax.plot(h.history[\"loss\"])\n",
    "ax.set_xlabel(\"Number of iterations\")\n",
    "ax.set_ylabel(\"Loss\")"
   ]
  },
  {
   "cell_type": "code",
   "execution_count": null,
   "metadata": {
    "colab": {},
    "colab_type": "code",
    "id": "BrQKVHQDWUK7"
   },
   "outputs": [],
   "source": [
    "#loss, accuracy = model.evaluate(x, y)\n",
    "#print(f\"Accuracy: {accuracy*100:.0f}%, loss: {loss:.2f}\")"
   ]
  },
  {
   "cell_type": "code",
   "execution_count": null,
   "metadata": {
    "colab": {
     "base_uri": "https://localhost:8080/",
     "height": 297
    },
    "colab_type": "code",
    "id": "EvA2burXWUK-",
    "outputId": "d6843adf-c761-4257-ec7f-c208a9df3fdc"
   },
   "outputs": [
    {
     "data": {
      "text/plain": [
       "<matplotlib.collections.PathCollection at 0x7fec32d8e240>"
      ]
     },
     "execution_count": 18,
     "metadata": {
      "tags": []
     },
     "output_type": "execute_result"
    },
    {
     "data": {
      "image/png": "[encoded data removed]",
      "text/plain": [
       "<Figure size 432x288 with 1 Axes>"
      ]
     },
     "metadata": {
      "tags": []
     },
     "output_type": "display_data"
    }
   ],
   "source": [
    "def predict_with_weights(x, weights):\n",
    "    return np.matmul(x, weights) + bias\n",
    "\n",
    "fig, ax = plt.subplots()\n",
    "for wh in weights_histories:\n",
    "    ax.plot(*predict_with_weights(x_test, np.array(wh.weights)).T.squeeze())\n",
    "ax.set_xlabel(\"prediction for x[0]\")\n",
    "ax.set_ylabel(\"prediction for x[1]\")\n",
    "ax.scatter(*subgoal, s=10)"
   ]
  },
  {
   "cell_type": "code",
   "execution_count": null,
   "metadata": {
    "colab": {},
    "colab_type": "code",
    "id": "bxIIRep8pM1d"
   },
   "outputs": [],
   "source": []
  }
 ],
 "metadata": {
  "accelerator": "GPU",
  "colab": {
   "collapsed_sections": [],
   "name": "Week 12.ipynb",
   "provenance": []
  },
  "kernelspec": {
   "display_name": "Python 3",
   "language": "python",
   "name": "python3"
  },
  "language_info": {
   "codemirror_mode": {
    "name": "ipython",
    "version": 3
   },
   "file_extension": ".py",
   "mimetype": "text/x-python",
   "name": "python",
   "nbconvert_exporter": "python",
   "pygments_lexer": "ipython3",
   "version": "3.7.4"
  }
 },
 "nbformat": 4,
 "nbformat_minor": 4
}
