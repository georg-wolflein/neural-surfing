{
  "nbformat": 4,
  "nbformat_minor": 0,
  "metadata": {
    "kernelspec": {
      "name": "python3",
      "display_name": "Python 3"
    },
    "language_info": {
      "codemirror_mode": {
        "name": "ipython",
        "version": 3
      },
      "file_extension": ".py",
      "mimetype": "text/x-python",
      "name": "python",
      "nbconvert_exporter": "python",
      "pygments_lexer": "ipython3",
      "version": "3.7.4"
    },
    "colab": {
      "name": "Semester 2, week 3 cheat approach for stripe problem.ipynb",
      "provenance": [],
      "collapsed_sections": [],
      "toc_visible": true
    },
    "accelerator": "GPU"
  },
  "cells": [
    {
      "cell_type": "code",
      "metadata": {
        "id": "EVQPDKop8iCh",
        "colab_type": "code",
        "colab": {
          "base_uri": "https://localhost:8080/",
          "height": 122
        },
        "outputId": "9c1d744c-c88c-4012-f630-8b3ca12df1a5"
      },
      "source": [
        "from google.colab import drive\n",
        "drive.mount('/content/drive')"
      ],
      "execution_count": 11,
      "outputs": [
        {
          "output_type": "stream",
          "text": [
            "Go to this URL in a browser: https://accounts.google.com/o/oauth2/auth?client_id=947318989803-6bn6qk8qdgf4n4g3pfee6491hc0brc4i.apps.googleusercontent.com&redirect_uri=urn%3aietf%3awg%3aoauth%3a2.0%3aoob&response_type=code&scope=email%20https%3a%2f%2fwww.googleapis.com%2fauth%2fdocs.test%20https%3a%2f%2fwww.googleapis.com%2fauth%2fdrive%20https%3a%2f%2fwww.googleapis.com%2fauth%2fdrive.photos.readonly%20https%3a%2f%2fwww.googleapis.com%2fauth%2fpeopleapi.readonly\n",
            "\n",
            "Enter your authorization code:\n",
            "··········\n",
            "Mounted at /content/drive\n"
          ],
          "name": "stdout"
        }
      ]
    },
    {
      "cell_type": "code",
      "metadata": {
        "id": "879uPzrWsTH_",
        "colab_type": "code",
        "colab": {
          "base_uri": "https://localhost:8080/",
          "height": 34
        },
        "outputId": "d2817d37-3407-45e4-a9a1-4fdee97a5011"
      },
      "source": [
        "%tensorflow_version 2.x\n",
        "\n",
        "import tensorflow as tf\n",
        "import numpy as np\n",
        "import matplotlib.pyplot as plt\n",
        "from tensorflow import keras\n",
        "from pathlib import Path\n",
        "\n",
        "import itertools\n",
        "\n",
        "DATA_DIR = Path(\"/content/drive/My Drive/SH/data\")\n",
        "\n",
        "tf.keras.backend.clear_session()\n",
        "tf.__version__"
      ],
      "execution_count": 52,
      "outputs": [
        {
          "output_type": "execute_result",
          "data": {
            "text/plain": [
              "'2.1.0'"
            ]
          },
          "metadata": {
            "tags": []
          },
          "execution_count": 52
        }
      ]
    },
    {
      "cell_type": "code",
      "metadata": {
        "id": "INerUNgQsTIM",
        "colab_type": "code",
        "colab": {}
      },
      "source": [
        "# Radial basis activation function: e^(-x^2)\n",
        "@tf.function\n",
        "def rbf(x):\n",
        "    return tf.exp(-tf.pow(x, 2))"
      ],
      "execution_count": 0,
      "outputs": []
    },
    {
      "cell_type": "code",
      "metadata": {
        "id": "36LBsGbJsTIS",
        "colab_type": "code",
        "colab": {
          "base_uri": "https://localhost:8080/",
          "height": 68
        },
        "outputId": "3a3520a9-3618-400b-fa01-ddf72bda43fe"
      },
      "source": [
        "model = keras.models.Sequential([\n",
        "    keras.layers.Dense(1,\n",
        "                       use_bias=False,\n",
        "                       input_shape=(2,),\n",
        "                       activation=rbf)\n",
        "])\n",
        "initial_weights = [1, 1]\n",
        "model.weights[0].assign(tf.constant(np.array(initial_weights).reshape((2, 1)).astype(np.float32)))"
      ],
      "execution_count": 54,
      "outputs": [
        {
          "output_type": "execute_result",
          "data": {
            "text/plain": [
              "<tf.Variable 'UnreadVariable' shape=(2, 1) dtype=float32, numpy=\n",
              "array([[1.],\n",
              "       [1.]], dtype=float32)>"
            ]
          },
          "metadata": {
            "tags": []
          },
          "execution_count": 54
        }
      ]
    },
    {
      "cell_type": "code",
      "metadata": {
        "id": "ry3HIri4sTIb",
        "colab_type": "code",
        "colab": {}
      },
      "source": [
        "#model.compile(loss=\"mse\", optimizer=\"sgd\", metrics=[\"binary_accuracy\"])\n",
        "model.compile(loss=\"mse\", optimizer=\"sgd\", metrics=[\"accuracy\"])"
      ],
      "execution_count": 0,
      "outputs": []
    },
    {
      "cell_type": "code",
      "metadata": {
        "id": "1xFMUdexsTIk",
        "colab_type": "code",
        "colab": {
          "base_uri": "https://localhost:8080/",
          "height": 85
        },
        "outputId": "ea3d5a26-67b1-4a76-8d64-c46857af610c"
      },
      "source": [
        "y = np.array([\n",
        "    1,\n",
        "    1,\n",
        "    0,\n",
        "    0\n",
        "])\n",
        "x = np.array([\n",
        "    (0, 0),\n",
        "    (2, 2),\n",
        "    (2, 0),\n",
        "    (0, 2)\n",
        "])\n",
        "x, y"
      ],
      "execution_count": 56,
      "outputs": [
        {
          "output_type": "execute_result",
          "data": {
            "text/plain": [
              "(array([[0, 0],\n",
              "        [2, 2],\n",
              "        [2, 0],\n",
              "        [0, 2]]), array([1, 1, 0, 0]))"
            ]
          },
          "metadata": {
            "tags": []
          },
          "execution_count": 56
        }
      ]
    },
    {
      "cell_type": "code",
      "metadata": {
        "id": "z_nwUO7KsTIo",
        "colab_type": "code",
        "colab": {
          "base_uri": "https://localhost:8080/",
          "height": 221
        },
        "outputId": "df7076da-35cb-4c5d-a07d-584a4caad713"
      },
      "source": [
        "def compute_subgoals(initial, goal, N, model, x):\n",
        "    WEIGHTS_SHAPE = list(map(tf.shape, model.get_weights()))\n",
        "\n",
        "    def get_weights():\n",
        "        return tf.concat([tf.reshape(x, [-1]) for x in model.get_weights()], axis=0)\n",
        "\n",
        "    def set_weights(weights):\n",
        "        if WEIGHTS_SHAPE is None:\n",
        "            get_weights()\n",
        "\n",
        "        weights = tf.split(weights, list(map(tf.reduce_prod, WEIGHTS_SHAPE)))\n",
        "        weights = [tf.reshape(x, shape) for (x, shape) in zip(weights, WEIGHTS_SHAPE)]\n",
        "        model.set_weights(weights)\n",
        "    \n",
        "    def predict_for_weights(weights, x):\n",
        "        set_weights(weights)\n",
        "        return model.predict(x)\n",
        "\n",
        "    subgoal_weights = tf.expand_dims(tf.linspace(0., 1, N), axis=-1) * (goal - initial) + initial\n",
        "\n",
        "    subgoals = tf.stack([predict_for_weights(weights, x) for weights in subgoal_weights])\n",
        "    subgoals = tf.squeeze(subgoals)\n",
        "    \n",
        "    return subgoal_weights, subgoals\n",
        "\n",
        "\n",
        "initial = tf.constant([1., 1])\n",
        "goal = tf.constant([1., -1])\n",
        "N = 10 # number of subgoals\n",
        "\n",
        "weights, subgoals = compute_subgoals(initial, goal, N, model, x)\n",
        "subgoals"
      ],
      "execution_count": 57,
      "outputs": [
        {
          "output_type": "execute_result",
          "data": {
            "text/plain": [
              "<tf.Tensor: shape=(10, 4), dtype=float32, numpy=\n",
              "array([[1.00000000e+00, 1.12535176e-07, 1.83156393e-02, 1.83156393e-02],\n",
              "       [1.00000000e+00, 3.23340305e-06, 1.83156393e-02, 8.89435783e-02],\n",
              "       [1.00000000e+00, 6.25832836e-05, 1.83156393e-02, 2.90960461e-01],\n",
              "       [1.00000000e+00, 8.15988577e-04, 1.83156393e-02, 6.41180396e-01],\n",
              "       [1.00000000e+00, 7.16697192e-03, 1.83156393e-02, 9.51816797e-01],\n",
              "       [1.00000000e+00, 4.24048156e-02, 1.83156393e-02, 9.51816678e-01],\n",
              "       [1.00000000e+00, 1.69013351e-01, 1.83156393e-02, 6.41180336e-01],\n",
              "       [1.00000000e+00, 4.53788817e-01, 1.83156393e-02, 2.90960461e-01],\n",
              "       [1.00000000e+00, 8.20754826e-01, 1.83156393e-02, 8.89435783e-02],\n",
              "       [1.00000000e+00, 1.00000000e+00, 1.83156393e-02, 1.83156393e-02]],\n",
              "      dtype=float32)>"
            ]
          },
          "metadata": {
            "tags": []
          },
          "execution_count": 57
        }
      ]
    },
    {
      "cell_type": "code",
      "metadata": {
        "id": "zmEx2mUAsTIs",
        "colab_type": "code",
        "colab": {
          "base_uri": "https://localhost:8080/",
          "height": 296
        },
        "outputId": "03a1ac5c-e7c8-43a3-8dce-5a8481555349"
      },
      "source": [
        "fig, ax = plt.subplots()\n",
        "ax.set_xlabel(\"w1\")\n",
        "ax.set_ylabel(\"w2\")\n",
        "ax.plot(weights[..., 0], weights[..., 1], '.-')"
      ],
      "execution_count": 58,
      "outputs": [
        {
          "output_type": "execute_result",
          "data": {
            "text/plain": [
              "[<matplotlib.lines.Line2D at 0x7ff9922cb5f8>]"
            ]
          },
          "metadata": {
            "tags": []
          },
          "execution_count": 58
        },
        {
          "output_type": "display_data",
          "data": {
            "image/png": "[encoded data removed]",
            "text/plain": [
              "<Figure size 432x288 with 1 Axes>"
            ]
          },
          "metadata": {
            "tags": []
          }
        }
      ]
    },
    {
      "cell_type": "code",
      "metadata": {
        "id": "VcReV_BlsTIx",
        "colab_type": "code",
        "colab": {
          "base_uri": "https://localhost:8080/",
          "height": 296
        },
        "outputId": "686abdc7-4379-4b8b-bc17-621a513b0394"
      },
      "source": [
        "# Let's plot the output space\n",
        "# Note that two of the samples stay constant throughout. This actually comes in quite handy because we only need a 2D plot to visualize output space instead of a 4D plot.\n",
        "fig, ax = plt.subplots()\n",
        "ax.set_xlabel(\"target output of sample #2\")\n",
        "ax.set_ylabel(\"target output of sample #4\")\n",
        "ax.plot(subgoals[..., 1], subgoals[..., 3], '.-')"
      ],
      "execution_count": 59,
      "outputs": [
        {
          "output_type": "execute_result",
          "data": {
            "text/plain": [
              "[<matplotlib.lines.Line2D at 0x7ff9918bfe10>]"
            ]
          },
          "metadata": {
            "tags": []
          },
          "execution_count": 59
        },
        {
          "output_type": "display_data",
          "data": {
            "image/png": "[encoded data removed]",
            "text/plain": [
              "<Figure size 432x288 with 1 Axes>"
            ]
          },
          "metadata": {
            "tags": []
          }
        }
      ]
    },
    {
      "cell_type": "code",
      "metadata": {
        "scrolled": true,
        "id": "PBmv1dyHsTI1",
        "colab_type": "code",
        "colab": {
          "base_uri": "https://localhost:8080/",
          "height": 170
        },
        "outputId": "c212b241-0b9b-48ae-8e75-dc0d023826ee"
      },
      "source": [
        "initial_weights = [1, 1]\n",
        "model.weights[0].assign(tf.constant(np.array(initial_weights).reshape((2, 1)).astype(np.float32)))\n",
        "\n",
        "\n",
        "def has_achieved(model, x, subgoals, i):\n",
        "    #print(tf.norm(tf.squeeze(model.predict(x)) - subgoals[i]), tf.norm(subgoals[i-1] - subgoals[i]))\n",
        "    return tf.norm(tf.squeeze(model.predict(x)) - subgoals[i]) <= .5 * tf.norm(subgoals[i-1] - subgoals[i])\n",
        "\n",
        "class EarlyStoppingOnSubgoal(tf.keras.callbacks.Callback):\n",
        "    def __init__(self, x, subgoals, i):\n",
        "        self.x = x\n",
        "        self.subgoals = subgoals\n",
        "        self.i = i\n",
        "        self.finished = False\n",
        "    \n",
        "    def on_epoch_end(self, epoch, logs=None):\n",
        "        if has_achieved(self.model, self.x, self.subgoals, self.i):\n",
        "            self.finished = True\n",
        "            self.model.stop_training = True\n",
        "            print(f\"stopping after {epoch} epochs\")\n",
        "\n",
        "class TrainingLogger(tf.keras.callbacks.Callback):\n",
        "    def __init__(self):\n",
        "        self.predictions = list()\n",
        "        self.weights = list()\n",
        "    \n",
        "    def on_epoch_end(self, epoch, logs=None):\n",
        "        self.predictions.append(self.model.predict(x))\n",
        "        self.weights.append(self.model.get_weights())\n",
        "\n",
        "logger = TrainingLogger()\n",
        "loss = []\n",
        "for i in range(1, len(subgoals)):\n",
        "    print(f\"attempting to achieve subgoal #{i}\")\n",
        "    early_stopping = EarlyStoppingOnSubgoal(x, subgoals, i)\n",
        "    history = model.fit(x, subgoals[i],\n",
        "                        batch_size=len(subgoals[i]),\n",
        "                        epochs=20000,\n",
        "                        callbacks=[logger, early_stopping],\n",
        "                        verbose=0)\n",
        "    loss.append(history.history[\"loss\"])\n",
        "    if not early_stopping.finished:\n",
        "        break"
      ],
      "execution_count": 60,
      "outputs": [
        {
          "output_type": "stream",
          "text": [
            "attempting to achieve subgoal #1\n",
            "stopping after 2258 epochs\n",
            "attempting to achieve subgoal #2\n",
            "stopping after 388 epochs\n",
            "attempting to achieve subgoal #3\n",
            "stopping after 101 epochs\n",
            "attempting to achieve subgoal #4\n",
            "stopping after 82 epochs\n",
            "attempting to achieve subgoal #5\n"
          ],
          "name": "stdout"
        }
      ]
    },
    {
      "cell_type": "code",
      "metadata": {
        "id": "DuBihPd5AFS3",
        "colab_type": "code",
        "colab": {
          "base_uri": "https://localhost:8080/",
          "height": 300
        },
        "outputId": "7e524626-a2fb-4b49-8979-4faec97fe950"
      },
      "source": [
        "# Let's plot the output space\n",
        "# Note that two of the samples stay constant throughout. This actually comes in quite handy because we only need a 2D plot to visualize output space instead of a 4D plot.\n",
        "fig, ax = plt.subplots()\n",
        "ax.set_xlabel(\"target output of sample #2\")\n",
        "ax.set_ylabel(\"target output of sample #4\")\n",
        "ax.plot(subgoals[..., 1], subgoals[..., 3], '.-')\n",
        "\n",
        "# Plot our predictions\n",
        "predictions = np.array(logger.predictions).squeeze()\n",
        "ax.plot(predictions[..., 1], predictions[..., 3], '.-')"
      ],
      "execution_count": 61,
      "outputs": [
        {
          "output_type": "execute_result",
          "data": {
            "text/plain": [
              "[<matplotlib.lines.Line2D at 0x7ff99406c630>]"
            ]
          },
          "metadata": {
            "tags": []
          },
          "execution_count": 61
        },
        {
          "output_type": "display_data",
          "data": {
            "image/png": "[encoded data removed]",
            "text/plain": [
              "<Figure size 432x288 with 1 Axes>"
            ]
          },
          "metadata": {
            "tags": []
          }
        }
      ]
    },
    {
      "cell_type": "code",
      "metadata": {
        "id": "FEsS8Xj0DCy6",
        "colab_type": "code",
        "colab": {
          "base_uri": "https://localhost:8080/",
          "height": 296
        },
        "outputId": "b686422a-6d3b-4bcd-97a9-c528d7ce8675"
      },
      "source": [
        "fig, ax = plt.subplots()\n",
        "ax.set_xlabel(\"w1\")\n",
        "ax.set_ylabel(\"w2\")\n",
        "ax.plot(weights[..., 0], weights[..., 1], '.-')\n",
        "\n",
        "training_weights = np.array(logger.weights).squeeze()\n",
        "ax.plot(training_weights[..., 0], training_weights[..., 1], '.-')"
      ],
      "execution_count": 62,
      "outputs": [
        {
          "output_type": "execute_result",
          "data": {
            "text/plain": [
              "[<matplotlib.lines.Line2D at 0x7ff990dc9dd8>]"
            ]
          },
          "metadata": {
            "tags": []
          },
          "execution_count": 62
        },
        {
          "output_type": "display_data",
          "data": {
            "image/png": "[encoded data removed]",
            "text/plain": [
              "<Figure size 432x288 with 1 Axes>"
            ]
          },
          "metadata": {
            "tags": []
          }
        }
      ]
    },
    {
      "cell_type": "code",
      "metadata": {
        "id": "Oh0KEv5IsTJB",
        "colab_type": "code",
        "colab": {
          "base_uri": "https://localhost:8080/",
          "height": 51
        },
        "outputId": "2a24c91f-4c34-4b9d-d5e5-3d26717566d3"
      },
      "source": [
        "model.get_weights()"
      ],
      "execution_count": 63,
      "outputs": [
        {
          "output_type": "execute_result",
          "data": {
            "text/plain": [
              "[array([[0.9274593 ],\n",
              "        [0.10624493]], dtype=float32)]"
            ]
          },
          "metadata": {
            "tags": []
          },
          "execution_count": 63
        }
      ]
    },
    {
      "cell_type": "code",
      "metadata": {
        "id": "ZIppvQZPsTJH",
        "colab_type": "code",
        "colab": {
          "base_uri": "https://localhost:8080/",
          "height": 34
        },
        "outputId": "9124c3c2-2074-4ea1-eb57-47a76a067d9d"
      },
      "source": [
        "weights[5]"
      ],
      "execution_count": 64,
      "outputs": [
        {
          "output_type": "execute_result",
          "data": {
            "text/plain": [
              "<tf.Tensor: shape=(2,), dtype=float32, numpy=array([ 1.        , -0.11111116], dtype=float32)>"
            ]
          },
          "metadata": {
            "tags": []
          },
          "execution_count": 64
        }
      ]
    },
    {
      "cell_type": "code",
      "metadata": {
        "id": "aFp6bMgmsTJK",
        "colab_type": "code",
        "colab": {}
      },
      "source": [
        "# Save data\n",
        "NUM_SAMPLES = 500\n",
        "\n",
        "with (DATA_DIR / \"sem2_week3_stripe_target_weights.dat\").open(\"w\") as f:\n",
        "    for w in weights.numpy():\n",
        "        f.write(\"\\t\".join(map(str, w)) + \"\\n\")\n",
        "\n",
        "with (DATA_DIR / \"sem2_week3_stripe_training_weights.dat\").open(\"w\") as f:\n",
        "    size = training_weights.shape[0]\n",
        "    for w in training_weights[::size // NUM_SAMPLES]:\n",
        "        f.write(\"\\t\".join(map(str, w)) + \"\\n\")\n",
        "\n",
        "with (DATA_DIR / \"sem2_week3_stripe_target_outputs.dat\").open(\"w\") as f:\n",
        "    for s in subgoals.numpy():\n",
        "        s = s[1], s[3]\n",
        "        f.write(\"\\t\".join(map(str, s)) + \"\\n\")\n",
        "\n",
        "with (DATA_DIR / \"sem2_week3_stripe_training_outputs.dat\").open(\"w\") as f:\n",
        "    size = predictions.shape[0]\n",
        "    for s in predictions[::size // NUM_SAMPLES]:\n",
        "        s = s[1], s[3]\n",
        "        f.write(\"\\t\".join(map(str, s)) + \"\\n\")"
      ],
      "execution_count": 0,
      "outputs": []
    },
    {
      "cell_type": "code",
      "metadata": {
        "id": "V_nTrV8psTI9",
        "colab_type": "code",
        "colab": {
          "base_uri": "https://localhost:8080/",
          "height": 296
        },
        "outputId": "d9ab1607-1fba-42ee-e94d-3a8eda5ae1bf"
      },
      "source": [
        "loss_values = list(itertools.chain(*loss))\n",
        "\n",
        "fig, ax = plt.subplots()\n",
        "ax.plot(loss_values)\n",
        "ax.set_xlabel(\"Number of iterations\")\n",
        "ax.set_ylabel(\"Loss\")"
      ],
      "execution_count": 84,
      "outputs": [
        {
          "output_type": "execute_result",
          "data": {
            "text/plain": [
              "Text(0, 0.5, 'Loss')"
            ]
          },
          "metadata": {
            "tags": []
          },
          "execution_count": 84
        },
        {
          "output_type": "display_data",
          "data": {
            "image/png": "[encoded data removed]",
            "text/plain": [
              "<Figure size 432x288 with 1 Axes>"
            ]
          },
          "metadata": {
            "tags": []
          }
        }
      ]
    },
    {
      "cell_type": "code",
      "metadata": {
        "id": "2b87Xo_5E4Lm",
        "colab_type": "code",
        "colab": {}
      },
      "source": [
        ""
      ],
      "execution_count": 0,
      "outputs": []
    }
  ]
}