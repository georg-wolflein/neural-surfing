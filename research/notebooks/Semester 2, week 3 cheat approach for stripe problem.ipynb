{
 "cells": [
  {
   "cell_type": "code",
   "execution_count": 19,
   "metadata": {},
   "outputs": [
    {
     "data": {
      "text/plain": [
       "'2.0.0'"
      ]
     },
     "execution_count": 19,
     "metadata": {},
     "output_type": "execute_result"
    }
   ],
   "source": [
    "import tensorflow as tf\n",
    "import numpy as np\n",
    "import matplotlib.pyplot as plt\n",
    "from tensorflow import keras\n",
    "\n",
    "import itertools\n",
    "\n",
    "tf.keras.backend.clear_session()\n",
    "tf.__version__"
   ]
  },
  {
   "cell_type": "code",
   "execution_count": 2,
   "metadata": {},
   "outputs": [],
   "source": [
    "# Radial basis activation function: e^(-x^2)\n",
    "@tf.function\n",
    "def rbf(x):\n",
    "    return tf.exp(-tf.pow(x, 2))"
   ]
  },
  {
   "cell_type": "code",
   "execution_count": 3,
   "metadata": {},
   "outputs": [
    {
     "data": {
      "text/plain": [
       "<tf.Variable 'UnreadVariable' shape=(2, 1) dtype=float32, numpy=\n",
       "array([[1.],\n",
       "       [1.]], dtype=float32)>"
      ]
     },
     "execution_count": 3,
     "metadata": {},
     "output_type": "execute_result"
    }
   ],
   "source": [
    "model = keras.models.Sequential([\n",
    "    keras.layers.Dense(1,\n",
    "                       use_bias=False,\n",
    "                       input_shape=(2,),\n",
    "                       activation=rbf)\n",
    "])\n",
    "initial_weights = [1, 1]\n",
    "model.weights[0].assign(tf.constant(np.array(initial_weights).reshape((2, 1)).astype(np.float32)))"
   ]
  },
  {
   "cell_type": "code",
   "execution_count": 4,
   "metadata": {},
   "outputs": [],
   "source": [
    "#model.compile(loss=\"mse\", optimizer=\"sgd\", metrics=[\"binary_accuracy\"])\n",
    "model.compile(loss=\"mse\", optimizer=\"sgd\", metrics=[\"accuracy\"])"
   ]
  },
  {
   "cell_type": "code",
   "execution_count": 5,
   "metadata": {},
   "outputs": [
    {
     "data": {
      "text/plain": [
       "(array([[0, 0],\n",
       "        [2, 2],\n",
       "        [2, 0],\n",
       "        [0, 2]]), array([1, 1, 0, 0]))"
      ]
     },
     "execution_count": 5,
     "metadata": {},
     "output_type": "execute_result"
    }
   ],
   "source": [
    "y = np.array([\n",
    "    1,\n",
    "    1,\n",
    "    0,\n",
    "    0\n",
    "])\n",
    "x = np.array([\n",
    "    (0, 0),\n",
    "    (2, 2),\n",
    "    (2, 0),\n",
    "    (0, 2)\n",
    "])\n",
    "x, y"
   ]
  },
  {
   "cell_type": "code",
   "execution_count": 6,
   "metadata": {},
   "outputs": [
    {
     "data": {
      "text/plain": [
       "<tf.Tensor: id=787, shape=(10, 4), dtype=float32, numpy=\n",
       "array([[1.00000000e+00, 1.12535176e-07, 1.83156393e-02, 1.83156393e-02],\n",
       "       [1.00000000e+00, 3.23340305e-06, 1.83156393e-02, 8.89435783e-02],\n",
       "       [1.00000000e+00, 6.25832836e-05, 1.83156393e-02, 2.90960431e-01],\n",
       "       [1.00000000e+00, 8.15988577e-04, 1.83156393e-02, 6.41180396e-01],\n",
       "       [1.00000000e+00, 7.16697238e-03, 1.83156393e-02, 9.51816797e-01],\n",
       "       [1.00000000e+00, 4.24048156e-02, 1.83156393e-02, 9.51816738e-01],\n",
       "       [1.00000000e+00, 1.69013351e-01, 1.83156393e-02, 6.41180336e-01],\n",
       "       [1.00000000e+00, 4.53788817e-01, 1.83156393e-02, 2.90960431e-01],\n",
       "       [1.00000000e+00, 8.20754826e-01, 1.83156393e-02, 8.89435783e-02],\n",
       "       [1.00000000e+00, 1.00000000e+00, 1.83156393e-02, 1.83156393e-02]],\n",
       "      dtype=float32)>"
      ]
     },
     "execution_count": 6,
     "metadata": {},
     "output_type": "execute_result"
    }
   ],
   "source": [
    "def compute_subgoals(initial, goal, N, model, x):\n",
    "    WEIGHTS_SHAPE = list(map(tf.shape, model.get_weights()))\n",
    "\n",
    "    def get_weights():\n",
    "        return tf.concat([tf.reshape(x, [-1]) for x in model.get_weights()], axis=0)\n",
    "\n",
    "    def set_weights(weights):\n",
    "        if WEIGHTS_SHAPE is None:\n",
    "            get_weights()\n",
    "\n",
    "        weights = tf.split(weights, list(map(tf.reduce_prod, WEIGHTS_SHAPE)))\n",
    "        weights = [tf.reshape(x, shape) for (x, shape) in zip(weights, WEIGHTS_SHAPE)]\n",
    "        model.set_weights(weights)\n",
    "    \n",
    "    def predict_for_weights(weights, x):\n",
    "        set_weights(weights)\n",
    "        return model.predict(x)\n",
    "\n",
    "    subgoal_weights = tf.expand_dims(tf.linspace(0., 1, N), axis=-1) * (goal - initial) + initial\n",
    "\n",
    "    subgoals = tf.stack([predict_for_weights(weights, x) for weights in subgoal_weights])\n",
    "    subgoals = tf.squeeze(subgoals)\n",
    "    \n",
    "    return subgoal_weights, subgoals\n",
    "\n",
    "\n",
    "initial = tf.constant([1., 1])\n",
    "goal = tf.constant([1., -1])\n",
    "N = 10 # number of subgoals\n",
    "\n",
    "weights, subgoals = compute_subgoals(initial, goal, N, model, x)\n",
    "subgoals"
   ]
  },
  {
   "cell_type": "code",
   "execution_count": 23,
   "metadata": {},
   "outputs": [
    {
     "data": {
      "text/plain": [
       "[<matplotlib.lines.Line2D at 0x1261c2a90>]"
      ]
     },
     "execution_count": 23,
     "metadata": {},
     "output_type": "execute_result"
    },
    {
     "data": {
      "image/png": "[encoded data removed]",
      "text/plain": [
       "<Figure size 432x288 with 1 Axes>"
      ]
     },
     "metadata": {
      "needs_background": "light"
     },
     "output_type": "display_data"
    }
   ],
   "source": [
    "fig, ax = plt.subplots()\n",
    "ax.set_xlabel(\"w1\")\n",
    "ax.set_ylabel(\"w2\")\n",
    "ax.plot(weights[..., 0], weights[..., 1], '.-')"
   ]
  },
  {
   "cell_type": "code",
   "execution_count": 24,
   "metadata": {},
   "outputs": [
    {
     "data": {
      "text/plain": [
       "[<matplotlib.lines.Line2D at 0x48433bf90>]"
      ]
     },
     "execution_count": 24,
     "metadata": {},
     "output_type": "execute_result"
    },
    {
     "data": {
      "image/png": "[encoded data removed]",
      "text/plain": [
       "<Figure size 432x288 with 1 Axes>"
      ]
     },
     "metadata": {
      "needs_background": "light"
     },
     "output_type": "display_data"
    }
   ],
   "source": [
    "# Let's plot the output space\n",
    "# Note that two of the samples stay constant throughout. This actually comes in quite handy because we only need a 2D plot to visualize output space instead of a 4D plot.\n",
    "fig, ax = plt.subplots()\n",
    "ax.set_xlabel(\"target output of sample #2\")\n",
    "ax.set_ylabel(\"target output of sample #4\")\n",
    "ax.plot(subgoals[..., 1], subgoals[..., 3], '.-')"
   ]
  },
  {
   "cell_type": "code",
   "execution_count": 16,
   "metadata": {
    "scrolled": true
   },
   "outputs": [
    {
     "name": "stdout",
     "output_type": "stream",
     "text": [
      "attempting to achieve subgoal #1\n",
      "stopping after 2258 epochs\n",
      "attempting to achieve subgoal #2\n",
      "stopping after 388 epochs\n",
      "attempting to achieve subgoal #3\n",
      "stopping after 101 epochs\n",
      "attempting to achieve subgoal #4\n",
      "stopping after 82 epochs\n",
      "attempting to achieve subgoal #5\n",
      "attempting to achieve subgoal #6\n",
      "attempting to achieve subgoal #7\n",
      "attempting to achieve subgoal #8\n",
      "attempting to achieve subgoal #9\n"
     ]
    }
   ],
   "source": [
    "initial_weights = [1, 1]\n",
    "model.weights[0].assign(tf.constant(np.array(initial_weights).reshape((2, 1)).astype(np.float32)))\n",
    "\n",
    "\n",
    "def has_achieved(model, x, subgoals, i):\n",
    "    #print(tf.norm(tf.squeeze(model.predict(x)) - subgoals[i]), tf.norm(subgoals[i-1] - subgoals[i]))\n",
    "    return tf.norm(tf.squeeze(model.predict(x)) - subgoals[i]) <= .5 * tf.norm(subgoals[i-1] - subgoals[i])\n",
    "\n",
    "class EarlyStoppingOnSubgoal(tf.keras.callbacks.Callback):\n",
    "    def __init__(self, x, subgoals, i):\n",
    "        self.x = x\n",
    "        self.subgoals = subgoals\n",
    "        self.i = i\n",
    "    \n",
    "    def on_epoch_end(self, epoch, logs=None):\n",
    "        if has_achieved(self.model, self.x, self.subgoals, self.i):\n",
    "            self.model.stop_training = True\n",
    "            print(f\"stopping after {epoch} epochs\")\n",
    "\n",
    "loss = []\n",
    "for i in range(1, len(subgoals)):\n",
    "    print(f\"attempting to achieve subgoal #{i}\")\n",
    "    history = model.fit(x, subgoals[i],\n",
    "                        batch_size=len(subgoals[i]),\n",
    "                        epochs=5000,\n",
    "                        callbacks=[EarlyStoppingOnSubgoal(x, subgoals, i)],\n",
    "                        verbose=0)\n",
    "    loss.append(history.history[\"loss\"])"
   ]
  },
  {
   "cell_type": "code",
   "execution_count": 22,
   "metadata": {},
   "outputs": [
    {
     "data": {
      "text/plain": [
       "Text(0, 0.5, 'Loss')"
      ]
     },
     "execution_count": 22,
     "metadata": {},
     "output_type": "execute_result"
    },
    {
     "data": {
      "image/png": "[encoded data removed]",
      "text/plain": [
       "<Figure size 432x288 with 1 Axes>"
      ]
     },
     "metadata": {
      "needs_background": "light"
     },
     "output_type": "display_data"
    }
   ],
   "source": [
    "loss_values = list(itertools.chain(*loss))\n",
    "\n",
    "fig, ax = plt.subplots()\n",
    "ax.plot(loss_values)\n",
    "ax.set_xlabel(\"Number of iterations\")\n",
    "ax.set_ylabel(\"Loss\")"
   ]
  },
  {
   "cell_type": "code",
   "execution_count": 25,
   "metadata": {},
   "outputs": [
    {
     "data": {
      "text/plain": [
       "[array([[0.9895827],\n",
       "        [0.9510139]], dtype=float32)]"
      ]
     },
     "execution_count": 25,
     "metadata": {},
     "output_type": "execute_result"
    }
   ],
   "source": [
    "model.get_weights()"
   ]
  },
  {
   "cell_type": "code",
   "execution_count": 27,
   "metadata": {},
   "outputs": [
    {
     "data": {
      "text/plain": [
       "<tf.Tensor: id=3702508, shape=(2,), dtype=float32, numpy=array([ 1., -1.], dtype=float32)>"
      ]
     },
     "execution_count": 27,
     "metadata": {},
     "output_type": "execute_result"
    }
   ],
   "source": [
    "weights[-1]"
   ]
  },
  {
   "cell_type": "code",
   "execution_count": null,
   "metadata": {},
   "outputs": [],
   "source": []
  }
 ],
 "metadata": {
  "kernelspec": {
   "display_name": "Python 3",
   "language": "python",
   "name": "python3"
  },
  "language_info": {
   "codemirror_mode": {
    "name": "ipython",
    "version": 3
   },
   "file_extension": ".py",
   "mimetype": "text/x-python",
   "name": "python",
   "nbconvert_exporter": "python",
   "pygments_lexer": "ipython3",
   "version": "3.7.4"
  }
 },
 "nbformat": 4,
 "nbformat_minor": 4
}
